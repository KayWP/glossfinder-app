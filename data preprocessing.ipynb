{
 "cells": [
  {
   "cell_type": "markdown",
   "id": "d9c5380b",
   "metadata": {},
   "source": [
    "First step was to remove all '.xml' and '#+ ' strings from the file column"
   ]
  },
  {
   "cell_type": "code",
   "execution_count": 1,
   "id": "aee06c09",
   "metadata": {},
   "outputs": [],
   "source": [
    "import pandas as pd"
   ]
  },
  {
   "cell_type": "code",
   "execution_count": 2,
   "id": "f236306d",
   "metadata": {},
   "outputs": [],
   "source": [
    "df = pd.read_csv('fulloutput.csv')"
   ]
  },
  {
   "cell_type": "code",
   "execution_count": 3,
   "id": "ed536950",
   "metadata": {},
   "outputs": [],
   "source": [
    "df = df[df['Term'].apply(lambda x: len(str(x)) > 3)]"
   ]
  },
  {
   "cell_type": "code",
   "execution_count": 4,
   "id": "7c9ed541",
   "metadata": {},
   "outputs": [],
   "source": [
    "df = df[~df['Term'].str.isdigit()]"
   ]
  },
  {
   "cell_type": "code",
   "execution_count": 5,
   "id": "7f8edd2d",
   "metadata": {},
   "outputs": [],
   "source": [
    "df['Term'] = df['Term'].str.lower()"
   ]
  },
  {
   "cell_type": "code",
   "execution_count": 6,
   "id": "5fe1830c",
   "metadata": {},
   "outputs": [],
   "source": [
    "df = df[df['Term'].map(df['Term'].value_counts()) <= 125]"
   ]
  },
  {
   "cell_type": "code",
   "execution_count": 7,
   "id": "e84bdf3b",
   "metadata": {},
   "outputs": [],
   "source": [
    "df.to_csv('preprocessed_csv.csv', index=False)"
   ]
  }
 ],
 "metadata": {
  "kernelspec": {
   "display_name": "Python 3 (ipykernel)",
   "language": "python",
   "name": "python3"
  },
  "language_info": {
   "codemirror_mode": {
    "name": "ipython",
    "version": 3
   },
   "file_extension": ".py",
   "mimetype": "text/x-python",
   "name": "python",
   "nbconvert_exporter": "python",
   "pygments_lexer": "ipython3",
   "version": "3.10.9"
  }
 },
 "nbformat": 4,
 "nbformat_minor": 5
}
